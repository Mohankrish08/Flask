{
 "cells": [
  {
   "cell_type": "code",
   "execution_count": 1,
   "metadata": {},
   "outputs": [],
   "source": [
    "import pandas as pd"
   ]
  },
  {
   "cell_type": "code",
   "execution_count": 2,
   "metadata": {},
   "outputs": [],
   "source": [
    "df = pd.read_csv(\"./cricket.csv\")"
   ]
  },
  {
   "cell_type": "code",
   "execution_count": 7,
   "metadata": {},
   "outputs": [
    {
     "data": {
      "text/plain": [
       "(60, 6)"
      ]
     },
     "execution_count": 7,
     "metadata": {},
     "output_type": "execute_result"
    }
   ],
   "source": [
    "df.shape"
   ]
  },
  {
   "cell_type": "code",
   "execution_count": 3,
   "metadata": {},
   "outputs": [
    {
     "data": {
      "text/html": [
       "<div>\n",
       "<style scoped>\n",
       "    .dataframe tbody tr th:only-of-type {\n",
       "        vertical-align: middle;\n",
       "    }\n",
       "\n",
       "    .dataframe tbody tr th {\n",
       "        vertical-align: top;\n",
       "    }\n",
       "\n",
       "    .dataframe thead th {\n",
       "        text-align: right;\n",
       "    }\n",
       "</style>\n",
       "<table border=\"1\" class=\"dataframe\">\n",
       "  <thead>\n",
       "    <tr style=\"text-align: right;\">\n",
       "      <th></th>\n",
       "      <th>question_id</th>\n",
       "      <th>question_text</th>\n",
       "      <th>option_id</th>\n",
       "      <th>option_text</th>\n",
       "      <th>sub_option_id</th>\n",
       "      <th>sub_option_text</th>\n",
       "    </tr>\n",
       "  </thead>\n",
       "  <tbody>\n",
       "    <tr>\n",
       "      <th>0</th>\n",
       "      <td>1</td>\n",
       "      <td>Who won the ICC Cricket World Cup 2019?</td>\n",
       "      <td>1</td>\n",
       "      <td>England</td>\n",
       "      <td>1</td>\n",
       "      <td>Final win in Super Over</td>\n",
       "    </tr>\n",
       "    <tr>\n",
       "      <th>1</th>\n",
       "      <td>1</td>\n",
       "      <td>Who won the ICC Cricket World Cup 2019?</td>\n",
       "      <td>1</td>\n",
       "      <td>England</td>\n",
       "      <td>2</td>\n",
       "      <td>Hosted by England</td>\n",
       "    </tr>\n",
       "    <tr>\n",
       "      <th>2</th>\n",
       "      <td>1</td>\n",
       "      <td>Who won the ICC Cricket World Cup 2019?</td>\n",
       "      <td>1</td>\n",
       "      <td>England</td>\n",
       "      <td>3</td>\n",
       "      <td>Beat New Zealand</td>\n",
       "    </tr>\n",
       "    <tr>\n",
       "      <th>3</th>\n",
       "      <td>1</td>\n",
       "      <td>Who won the ICC Cricket World Cup 2019?</td>\n",
       "      <td>2</td>\n",
       "      <td>New Zealand</td>\n",
       "      <td>4</td>\n",
       "      <td>Lost in the final</td>\n",
       "    </tr>\n",
       "    <tr>\n",
       "      <th>4</th>\n",
       "      <td>1</td>\n",
       "      <td>Who won the ICC Cricket World Cup 2019?</td>\n",
       "      <td>2</td>\n",
       "      <td>New Zealand</td>\n",
       "      <td>5</td>\n",
       "      <td>Hosted by Australia</td>\n",
       "    </tr>\n",
       "  </tbody>\n",
       "</table>\n",
       "</div>"
      ],
      "text/plain": [
       "   question_id                            question_text  option_id  \\\n",
       "0            1  Who won the ICC Cricket World Cup 2019?          1   \n",
       "1            1  Who won the ICC Cricket World Cup 2019?          1   \n",
       "2            1  Who won the ICC Cricket World Cup 2019?          1   \n",
       "3            1  Who won the ICC Cricket World Cup 2019?          2   \n",
       "4            1  Who won the ICC Cricket World Cup 2019?          2   \n",
       "\n",
       "   option_text  sub_option_id          sub_option_text  \n",
       "0      England              1  Final win in Super Over  \n",
       "1      England              2        Hosted by England  \n",
       "2      England              3         Beat New Zealand  \n",
       "3  New Zealand              4        Lost in the final  \n",
       "4  New Zealand              5      Hosted by Australia  "
      ]
     },
     "execution_count": 3,
     "metadata": {},
     "output_type": "execute_result"
    }
   ],
   "source": [
    "df.head()"
   ]
  },
  {
   "cell_type": "code",
   "execution_count": 4,
   "metadata": {},
   "outputs": [],
   "source": [
    "questions = {}\n",
    "for _, row in df.iterrows():\n",
    "    q_id = row['question_id']\n",
    "    if q_id not in questions:\n",
    "        questions[q_id] = {'question_text': row['question_text'],\n",
    "                           'options': {}}\n",
    "        o_id = row['option_id']\n",
    "        if o_id not in questions[q_id]['options']:\n",
    "            questions[q_id]['options'][o_id] = {'option_text': row['option_text'],\n",
    "                                                'sub_options': []}\n",
    "        questions[q_id]['options'][o_id]['sub_options'].append({'sub_option_id': row['sub_option_id'],\n",
    "                                                                'sub_option_text': row['sub_option_text']})\n"
   ]
  },
  {
   "cell_type": "code",
   "execution_count": 5,
   "metadata": {},
   "outputs": [
    {
     "data": {
      "text/plain": [
       "{1: {'question_text': 'Who won the ICC Cricket World Cup 2019?',\n",
       "  'options': {1: {'option_text': 'England',\n",
       "    'sub_options': [{'sub_option_id': 1,\n",
       "      'sub_option_text': 'Final win in Super Over'}]}}},\n",
       " 2: {'question_text': 'Which player scored the highest individual score in ODI cricket?',\n",
       "  'options': {5: {'option_text': 'Rohit Sharma',\n",
       "    'sub_options': [{'sub_option_id': 13,\n",
       "      'sub_option_text': '264 runs against Sri Lanka'}]}}},\n",
       " 3: {'question_text': 'What is the maximum number of overs allowed per bowler in an ODI match?',\n",
       "  'options': {9: {'option_text': '10 overs',\n",
       "    'sub_options': [{'sub_option_id': 25,\n",
       "      'sub_option_text': 'Standard ODI rule'}]}}},\n",
       " 4: {'question_text': 'Which team has won the most IPL titles?',\n",
       "  'options': {13: {'option_text': 'Mumbai Indians',\n",
       "    'sub_options': [{'sub_option_id': 37,\n",
       "      'sub_option_text': '5-time champions'}]}}},\n",
       " 5: {'question_text': 'Who is the captain of the Indian cricket team as of 2024?',\n",
       "  'options': {17: {'option_text': 'Rohit Sharma',\n",
       "    'sub_options': [{'sub_option_id': 49,\n",
       "      'sub_option_text': 'ODI and Test captain'}]}}}}"
      ]
     },
     "execution_count": 5,
     "metadata": {},
     "output_type": "execute_result"
    }
   ],
   "source": [
    "questions"
   ]
  },
  {
   "cell_type": "code",
   "execution_count": 6,
   "metadata": {},
   "outputs": [
    {
     "name": "stdout",
     "output_type": "stream",
     "text": [
      "1 | {'question_text': 'Who won the ICC Cricket World Cup 2019?', 'options': {1: {'option_text': 'England', 'sub_options': [{'sub_option_id': 1, 'sub_option_text': 'Final win in Super Over'}]}}}\n",
      "2 | {'question_text': 'Which player scored the highest individual score in ODI cricket?', 'options': {5: {'option_text': 'Rohit Sharma', 'sub_options': [{'sub_option_id': 13, 'sub_option_text': '264 runs against Sri Lanka'}]}}}\n",
      "3 | {'question_text': 'What is the maximum number of overs allowed per bowler in an ODI match?', 'options': {9: {'option_text': '10 overs', 'sub_options': [{'sub_option_id': 25, 'sub_option_text': 'Standard ODI rule'}]}}}\n",
      "4 | {'question_text': 'Which team has won the most IPL titles?', 'options': {13: {'option_text': 'Mumbai Indians', 'sub_options': [{'sub_option_id': 37, 'sub_option_text': '5-time champions'}]}}}\n",
      "5 | {'question_text': 'Who is the captain of the Indian cricket team as of 2024?', 'options': {17: {'option_text': 'Rohit Sharma', 'sub_options': [{'sub_option_id': 49, 'sub_option_text': 'ODI and Test captain'}]}}}\n"
     ]
    }
   ],
   "source": [
    "for question_id, question_data in questions.items():\n",
    "    print(question_id, \"|\", question_data)"
   ]
  },
  {
   "cell_type": "code",
   "execution_count": null,
   "metadata": {},
   "outputs": [],
   "source": []
  }
 ],
 "metadata": {
  "kernelspec": {
   "display_name": "Python 3",
   "language": "python",
   "name": "python3"
  },
  "language_info": {
   "codemirror_mode": {
    "name": "ipython",
    "version": 3
   },
   "file_extension": ".py",
   "mimetype": "text/x-python",
   "name": "python",
   "nbconvert_exporter": "python",
   "pygments_lexer": "ipython3",
   "version": "3.10.0"
  }
 },
 "nbformat": 4,
 "nbformat_minor": 2
}
